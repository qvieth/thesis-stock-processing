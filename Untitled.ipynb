{
 "cells": [
  {
   "cell_type": "code",
   "execution_count": null,
   "metadata": {
    "jukit_cell_id": "UK1K2Aur4D"
   },
   "outputs": [],
   "source": [
    "import glob\n",
    "import pandas as pd\n",
    "import numpy as np\n",
    "import stock_name"
   ]
  },
  {
   "cell_type": "code",
   "execution_count": null,
   "metadata": {
    "jukit_cell_id": "tdzeQZqAZa"
   },
   "outputs": [],
   "source": [
    "industry = \"fintech\"\n",
    "industry_code = \"FT_\"\n",
    "stock_code_list = stock_name.fintech.split(\" \")"
   ]
  },
  {
   "cell_type": "code",
   "execution_count": null,
   "metadata": {
    "jukit_cell_id": "TmDbJNbo1G"
   },
   "outputs": [],
   "source": [
    "def extract_marketcap(stock_code):\n",
    "    file_name = glob.glob(f\"/home/qvieth/Downloads/*{stock_code}*.xlsx\")[0]\n",
    "    df_vietstock = pd.read_excel(file_name, header=6)\n",
    "    return df_vietstock.iloc[0, 1]\n",
    "\n",
    "\n",
    "def load_df(\n",
    "    stock_code,\n",
    "    start_date=\"2019-01-21\",\n",
    "    end_date=\"2020-12-31\",\n",
    "    columns=[\n",
    "        \"priceClose\",\n",
    "    ],\n",
    "):\n",
    "    df = pd.read_json(f\"data/{stock_code}.json\")\n",
    "    # process the dataframe to needed shape\n",
    "    # slice needed columns\n",
    "    df_processed = df.loc[:, columns]\n",
    "    # filter by date\n",
    "    df_processed = df_processed[\n",
    "        (df_processed[\"sessionDate\"] <= start_date)\n",
    "        & (df_processed[\"sessionDate\"] >= end_date)\n",
    "    ]\n",
    "    # trim datetime\n",
    "    df_processed[\"sessionDate\"] = pd.to_datetime(\n",
    "        df_processed[\"sessionDate\"]\n",
    "    ).dt.strftime(\"%Y-%m-%d\")\n",
    "    # set index\n",
    "    df_processed = df_processed.set_index(\"sessionDate\")\n",
    "    return df_processed\n",
    "\n",
    "\n",
    "def calculate_marketcap(stock_code):\n",
    "    marketcap = extract_marketcap(stock_code)\n",
    "\n",
    "    def map_marketcap(arg):\n",
    "        nonlocal marketcap\n",
    "        if np.isnan(arg):\n",
    "            return marketcap\n",
    "        else:\n",
    "            marketcap = marketcap * (1 + arg)\n",
    "            return marketcap\n",
    "\n",
    "    # calculate marketcap\n",
    "    df_processed = load_df(stock_code)\n",
    "    df_processed.insert(0, \"perc_change\", df_processed[\"priceCloseAdjust\"].pct_change())\n",
    "    # df_processed[\"perc_change\"].fillna(0,inplace=True) # replace na with 0\n",
    "    df_processed.insert(0, \"marketCap\", df_processed[\"perc_change\"].map(map_marketcap))\n",
    "    return df_processed"
   ]
  },
  {
   "cell_type": "code",
   "execution_count": 1,
   "metadata": {
    "jukit_cell_id": "NT3pRU3vUp"
   },
   "outputs": [
    {
     "name": "stderr",
     "output_type": "stream",
     "text": [
      "/tmp/ipykernel_2614885/4244258542.py:31: RuntimeWarning: invalid value encountered in double_scalars\n",
      "  marketcap = marketcap * (1 + arg)\n",
      "/tmp/ipykernel_2614885/4244258542.py:31: RuntimeWarning: invalid value encountered in double_scalars\n",
      "  marketcap = marketcap * (1 + arg)\n",
      "/tmp/ipykernel_2614885/4244258542.py:31: RuntimeWarning: invalid value encountered in double_scalars\n",
      "  marketcap = marketcap * (1 + arg)\n",
      "/tmp/ipykernel_2614885/4244258542.py:31: RuntimeWarning: invalid value encountered in double_scalars\n",
      "  marketcap = marketcap * (1 + arg)\n"
     ]
    }
   ],
   "source": [
    "df_array = []\n",
    "for stock_code in stock_code_list:\n",
    "    df_array.append(calculate_marketcap(stock_code))"
   ]
  },
  {
   "cell_type": "code",
   "execution_count": null,
   "metadata": {
    "jukit_cell_id": "mpPiejW6SM"
   },
   "outputs": [],
   "source": [
    "for i, v in enumerate(df_array):\n",
    "    df_array[i] = df_array[i][df_array[i][\"exchangeCode\"] == \"HOSE\"]\n",
    "    df_array[i] = df_array[i].loc[:, [\"marketCap\", \"perc_change\"]]\n",
    "    df_array[i] = df_array[i].rename(\n",
    "        columns={\n",
    "            \"marketCap\": f\"{industry_code}mc{i+1}\",\n",
    "            \"perc_change\": f\"{industry_code}r{i+1}\",\n",
    "        }\n",
    "    )"
   ]
  },
  {
   "cell_type": "code",
   "execution_count": null,
   "metadata": {
    "jukit_cell_id": "DhyDInCfJU"
   },
   "outputs": [],
   "source": [
    "final = pd.DataFrame()\n",
    "# final = pd.concat(df_array, axis=1, keys=stock_code_list, join=\"outer\")\n",
    "final = pd.concat(df_array, axis=1, join=\"outer\")\n",
    "final.to_excel(f\"concated_{industry}.xlsx\", sheet_name=f\"{industry}\")"
   ]
  }
 ],
 "metadata": {
  "anaconda-cloud": {},
  "kernelspec": {
   "display_name": "Python 3 (ipykernel)",
   "language": "python",
   "name": "python3"
  },
  "language_info": {
   "codemirror_mode": {
    "name": "ipython",
    "version": 3
   },
   "file_extension": ".py",
   "mimetype": "text/x-python",
   "name": "python",
   "nbconvert_exporter": "python",
   "pygments_lexer": "ipython3",
   "version": "3.10.4"
  }
 },
 "nbformat": 4,
 "nbformat_minor": 4
}
